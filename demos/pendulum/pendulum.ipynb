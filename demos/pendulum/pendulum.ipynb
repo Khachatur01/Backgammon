{
  "cells": [
    {
      "cell_type": "code",
      "execution_count": null,
      "metadata": {
        "id": "Al-qHkSKcx_h",
        "outputId": "ae8392fa-50c5-4b5b-de2d-715862739d4d"
      },
      "outputs": [
        {
          "data": {
            "text/markdown": [
              "# PENDULUM\n",
              "**STANDALONE TOPOLOGY**\n",
              "\n",
              "------------------------------------------\n",
              "\n",
              "### **Summary**\n",
              "A pendulum is a weight suspended from a pivot so that it can swing freely. It consists of ywo bodies, the pendulum and the ground, attached together through a pin/revolute joint. More general information about the pendulum can be found on [wikipedia](https://en.wikipedia.org/wiki/Pendulum).\n",
              "\n",
              "------------------------------------------\n",
              "\n",
              "### **Topology Layout**\n",
              "The mechanism consists of 1 Body + 1 Ground. Therefore, total system coordinates -including the ground- is \n",
              "$$n=n_b\\times7 = 2\\times7 = 14$$ \n",
              "\n",
              "where $n_b$ is the total number of bodies.  [^1]\n",
              "\n",
              "The list of bodies is given below:\n",
              "\n",
              "- Pendulum body $body$.\n",
              "\n",
              "The system connectivity is as follows:\n",
              "- Pendulum $body$ is connected to the ground by a revolute joint, resulting in constraint equations $n_{c,rev} = 5$\n",
              "\n",
              "<br/>\n",
              "<br/>\n",
              "\n",
              "<center>\n",
              "\n",
              "| Joint Name  | Body i         | Body j         | Joint Type | $n_c$ |\n",
              "|:-----------:|:-------------- |:-------------- | ---------- | ----- |\n",
              "| a           | Ground         | Pendulum       | Revolute   | 5     |\n",
              "\n",
              "</center>\n",
              "\n",
              "<br/>\n",
              "\n",
              "The degrees of freedom of the system can be calculated as:\n",
              "    $$n-( n_{c,rev}+n_{c,P}+n_{c,g}) = 14 - (5 + (1 \\times 1) + 7) = 14 - 13 = 1$$\n",
              "\n",
              "where the $n_{c,P}$ and $n_{c,g}$ represents the constraints due to euler-parameters normalization equations and the ground-constraints respectively.\n",
              "\n",
              "\n",
              "<br/>\n",
              "\n",
              "-------------------------------------------------------\n",
              "\n",
              "\n",
              "\n",
              "[^1]: The tool uses [euler-parameters](https://en.wikibooks.org/wiki/Multibody_Mechanics/Euler_Parameters) -which is a 4D unit quaternion- to represents bodies orientation in space. This makes the generalized coordinates used to fully define a body in space to be **7,** instead of **6**, it also adds an algebraic equation to the constraints that ensures the unity/normalization of the body quaternion. This is an important remark as the calculations of the degrees-of-freedom depends on it.\n",
              "\n"
            ],
            "text/plain": [
              "<IPython.core.display.Markdown object>"
            ]
          },
          "metadata": {},
          "output_type": "display_data"
        }
      ],
      "source": [
        "from IPython.display import display, Markdown\n",
        "display(Markdown(filename='README.md'))"
      ]
    },
    {
      "cell_type": "markdown",
      "metadata": {
        "id": "evwkVZlccx_k"
      },
      "source": [
        "---------------------------------------------------------------\n",
        "---------------------------------------------------------------"
      ]
    },
    {
      "cell_type": "markdown",
      "metadata": {
        "id": "9MoSqUtDcx_l"
      },
      "source": [
        "# **IMPLEMENTATION**\n",
        "\n",
        "The system is modeled as full multi-body system (**MBS**) using the [**uraeus.smbd**](https://https://github.com/khaledghobashy/uraeus-smbd) to model the system symbolically, then using [**uraeus.nmbd.cpp**](https://github.com/khaledghobashy/uraeus_nmbd_cpp) to perform the numerical simulation of the modeled system.\n",
        "\n",
        "The implementation in this notebook can be broken down into main **six** steps as follows:\n",
        "\n",
        "1. **Colab Machine Setup.** </br>\n",
        "We first starts by setting up the Colab machine environment by installing the needed tools and packages.\n",
        "\n",
        "2.  **Symbolic Model Creation.** </br>\n",
        "Here we create the symbolic topology of the system as well as a symbolic configuration.\n",
        "\n",
        "3.  **Numerical Environment Generation.** </br>\n",
        "We then pass our symbolic model to code-generators to generate the code files needed for numerical simulation.\n",
        "\n",
        "4.  **Numerical Simulation.** </br>\n",
        "We then use these code files to create our simulation instances and run the numerical simulation.\n",
        "\n",
        "5.  **Data Post-Processing.** </br>\n",
        "Now, we can use the raw results' data to evaluate the required characteristics and create plots.\n",
        "\n",
        "6.  **3D Visualization.** </br>\n",
        "Finally, we use **uraeus.visenv.babylon** to visualize and animate our system in 3D.\n",
        "---\n",
        "\n",
        "*__Note__: If you want to know more about the **uraues.mbd** opensource packages for multi-body dynamics, please visit the package repository at github [here](https://github.com/khaledghobashy/uraeus_mbd).*\n",
        "\n",
        "---\n",
        "---"
      ]
    },
    {
      "cell_type": "code",
      "source": [],
      "metadata": {
        "id": "lNvbfLA-dNNp"
      },
      "execution_count": null,
      "outputs": []
    },
    {
      "cell_type": "markdown",
      "metadata": {
        "id": "um-I7Bdwcx_m"
      },
      "source": [
        "# 1. **Colab Machine Setup**\n",
        "---\n",
        "\n",
        "This is a simple demonesteration that walks through the installation steps of the needed software packages on a virtual linux machine provided by [Google Colaboratory](https://colab.research.google.com/). These are more or less the same steps you need to follow in order to setup the environment on your machine.\n",
        "\n",
        "The list of the stated **uraeus.nmbd.cpp** prerequisites:\n",
        "- Python 3.6+.\n",
        "- [Git](https://git-scm.com/downloads), for cloning the project repository.\n",
        "- [Cmake](https://cmake.org/download/), for build-systems generation. The project requires cmake 3.10 or higher.\n",
        "- A modern C++ compiler supporting C++17 standards. The project is tested with the GCC 10 compiler on a Linux machine and the Microsoft C++ build tools MSVC on a Windows-10 machine.\n",
        "- The [uraeus.smbd](https://github.com/khaledghobashy/uraeus-smbd) python package.\n",
        "\n",
        "The linux machine provided by Colab already has compatible versions of **python**, **git** and **cmake**. We just need to:\n",
        "1. Install a newer version of the **gcc** compiler.\n",
        "2. Clone and install the [uraeus.smbd](https://github.com/khaledghobashy/uraeus-smbd) and [uraeus.nmbd.cpp](https://github.com/khaledghobashy/uraeus_nmbd_cpp) packages.\n",
        "\n",
        "---\n",
        "\n",
        "*__Note__: Code cells in Jupyter notebooks can accept terminal commands by including an exclamation mark (**!**) before the command. This will be used to setup the virtual machine hosting this notebook.*\n",
        "\n",
        "---"
      ]
    },
    {
      "cell_type": "markdown",
      "metadata": {
        "id": "L_I44pHlcx_m"
      },
      "source": [
        "## Installing GCC 10\n",
        "The code cell below has the terminal commands needed to install **gcc** 10 and set it as the default compiler for the machine. Select the cell and press **Shift + Enter** to run the cell."
      ]
    },
    {
      "cell_type": "code",
      "execution_count": null,
      "metadata": {
        "id": "_gMuqEjOmM3w"
      },
      "outputs": [],
      "source": [
        "!sudo apt install software-properties-common\n",
        "!sudo add-apt-repository -y ppa:ubuntu-toolchain-r/test\n",
        "!sudo apt install gcc-10 g++-10\n",
        "!sudo update-alternatives --install /usr/bin/gcc gcc /usr/bin/gcc-10 90 --slave /usr/bin/g++ g++ /usr/bin/g++-10 --slave /usr/bin/gcov gcov /usr/bin/gcov-10"
      ]
    },
    {
      "cell_type": "markdown",
      "metadata": {
        "id": "BVyvbIAhcx_n"
      },
      "source": [
        "Checking the default version of gcc."
      ]
    },
    {
      "cell_type": "code",
      "execution_count": null,
      "metadata": {
        "id": "MCTivmRVnBE_"
      },
      "outputs": [],
      "source": [
        "!gcc --version"
      ]
    },
    {
      "cell_type": "markdown",
      "metadata": {
        "id": "S4JMPl2pcx_n"
      },
      "source": [
        "----"
      ]
    },
    {
      "cell_type": "markdown",
      "metadata": {
        "id": "wDKDi8FPcx_o"
      },
      "source": [
        "## Cloning uraeus packages\n",
        "The code cell below has the terminal commands needed to clone the needed uraeus packages. Just run the cell."
      ]
    },
    {
      "cell_type": "code",
      "execution_count": null,
      "metadata": {
        "id": "0bi3ce13-rN4"
      },
      "outputs": [],
      "source": [
        "!git clone https://github.com/khaledghobashy/uraeus_nmbd_cpp.git\n",
        "!git clone https://github.com/khaledghobashy/uraeus_smbd.git\n",
        "!git clone https://github.com/khaledghobashy/uraeus_visenv_babylon.git"
      ]
    },
    {
      "cell_type": "markdown",
      "metadata": {
        "id": "409QaaDBcx_o"
      },
      "source": [
        "## Installing uraeus packages\n",
        "The code cell below has the terminal commands needed to install the cloned packages via `pip install`. Just run the cell."
      ]
    },
    {
      "cell_type": "code",
      "execution_count": null,
      "metadata": {
        "id": "THxBlbtcQ3fv"
      },
      "outputs": [],
      "source": [
        "!pip install -e uraeus_smbd\n",
        "!pip install -e uraeus_nmbd_cpp"
      ]
    },
    {
      "cell_type": "markdown",
      "metadata": {
        "id": "0x9Au3JDcx_p"
      },
      "source": [
        "---"
      ]
    },
    {
      "cell_type": "markdown",
      "metadata": {
        "id": "wIvbA10Ecx_p"
      },
      "source": [
        "## Building the binaries of **uraeus.nmbd.cpp**\n",
        "The code cell below creats a build directory and uses `cmake ..` to generate the build-system files needed to build the binaries in **Release** mode, then invokes `cmake --build .` to start the building process. Again, jsut run the cell."
      ]
    },
    {
      "cell_type": "code",
      "execution_count": null,
      "metadata": {
        "id": "3nNgO9vb-wZj"
      },
      "outputs": [],
      "source": [
        "!cd uraeus_nmbd_cpp/uraeus/nmbd/cpp/engine/ && mkdir -p build && cd build && cmake .. -DCMAKE_BUILD_TYPE=Release && cmake --build ."
      ]
    },
    {
      "cell_type": "markdown",
      "metadata": {
        "id": "l2K3cZb4cx_p"
      },
      "source": [
        "---"
      ]
    },
    {
      "cell_type": "markdown",
      "metadata": {
        "id": "sjp2R8YFcx_p"
      },
      "source": [
        "Finally, we force the active python kernel to restart in order to have access to the intalled uraeus packages.\n",
        "Running the cell below in Colab will give a warining message **\"Your session crashed for an unknown reason\"**, this is intentional, so do not worry."
      ]
    },
    {
      "cell_type": "code",
      "execution_count": null,
      "metadata": {
        "id": "W8ZsD-o9bBSM"
      },
      "outputs": [],
      "source": [
        "import os\n",
        "os._exit(00)"
      ]
    },
    {
      "cell_type": "markdown",
      "metadata": {
        "id": "cPifRQALcx_p"
      },
      "source": [
        "---\n",
        "---\n",
        "\n",
        "</br>\n",
        "</br>\n",
        "</br>\n",
        "</br>\n",
        "\n",
        "---\n",
        "---"
      ]
    },
    {
      "cell_type": "markdown",
      "metadata": {
        "id": "0ONk4CSRcx_q"
      },
      "source": [
        "# 2. **Symbolic Model Creation**\n",
        "---"
      ]
    },
    {
      "cell_type": "markdown",
      "metadata": {
        "id": "U6W3jP9acx_q"
      },
      "source": [
        "## **Symbolic Topology**\n",
        "------------------------"
      ]
    },
    {
      "cell_type": "markdown",
      "metadata": {
        "id": "6hgyNkIBcx_q"
      },
      "source": [
        "In this section, we create the symbolic topology that captures the topological layout that we discussed earlier.</br>\n",
        "Defining the topology is very simple. We start by importing the ```standalone_topology``` class and create a new instance that represents our symbolic model. Then we start adding the components we discussed earlier, starting by the bodies, then the joints, actuators and forces, and thats it.</br>\n",
        "These components will be represented symbolically, and therefore there is no need for any numerical inputs at this step.\n",
        "\n",
        "The system is stored in a form of a network graph that stores all the data needed for the assemblage of the system equations later. But even before the assemblage process, we can gain helpful insights about our system as well be shown.\n"
      ]
    },
    {
      "cell_type": "code",
      "execution_count": null,
      "metadata": {
        "id": "NM-6mHopVyOJ"
      },
      "outputs": [],
      "source": [
        "# standard library imports\n",
        "import os\n",
        "\n",
        "# getting directory of current file and specifying the directory\n",
        "# where data will be saved\n",
        "os.makedirs(os.path.join(\"model\", \"symenv\", \"data\"), exist_ok=True)\n",
        "#os.chdir(\"model\")\n",
        "data_dir = os.path.abspath(\"model/symenv/data\")"
      ]
    },
    {
      "cell_type": "code",
      "execution_count": null,
      "metadata": {
        "id": "eqlsFb6Jcx_q"
      },
      "outputs": [],
      "source": [
        "# uraeus imports\n",
        "from uraeus.smbd.systems import standalone_topology, configuration\n",
        "\n",
        "# ============================================================= #\n",
        "#                       Symbolic Topology\n",
        "# ============================================================= #\n",
        "\n",
        "# Creating the symbolic topology as an instance of the\n",
        "# standalone_topology class\n",
        "project_name = 'pendulum'\n",
        "sym_model = standalone_topology(project_name)\n",
        "\n",
        "# Adding Bodies\n",
        "# =============\n",
        "sym_model.add_body('body')\n",
        "\n",
        "# Adding Joints\n",
        "# =============\n",
        "sym_model.add_joint.revolute('a','ground','rbs_body')"
      ]
    },
    {
      "cell_type": "markdown",
      "metadata": {
        "id": "goKtOBuLd1Kh"
      },
      "source": [
        "### **Symbolic Characterstics**"
      ]
    },
    {
      "cell_type": "markdown",
      "metadata": {
        "id": "dvtksJxLcx_q"
      },
      "source": [
        "#### Topology Graph\n",
        "Visualizing the connectivity of the system as a network graph, where the nodes represent the bodies, and the edges represent the joints, forces and/or actuators between the bodies."
      ]
    },
    {
      "cell_type": "code",
      "execution_count": null,
      "metadata": {
        "id": "efoV0QzQcx_q"
      },
      "outputs": [],
      "source": [
        "sym_model.topology.draw_constraints_topology()"
      ]
    },
    {
      "cell_type": "markdown",
      "metadata": {
        "id": "93QvsLnbcx_r"
      },
      "source": [
        "Checking the system\"s number of generalized coordinates $n$ and number of constraints $n_c$."
      ]
    },
    {
      "cell_type": "code",
      "execution_count": null,
      "metadata": {
        "id": "zHNcZVHacx_r"
      },
      "outputs": [],
      "source": [
        "sym_model.topology.n, sym_model.topology.nc "
      ]
    },
    {
      "cell_type": "markdown",
      "metadata": {
        "id": "rkotqClkcx_r"
      },
      "source": [
        "### **Assembling**"
      ]
    },
    {
      "cell_type": "markdown",
      "metadata": {
        "id": "mnKQR8qzcx_r"
      },
      "source": [
        "This is the last step of the symbolic building process, where we make the system starts the assemblage process of the governing equations, which will be used then in the code generation for the numerical simulation, and also can be used for further symbolic manipulations.</br>\n",
        "\n",
        "*Note: The equations\" notations will be discussed in the tool documentation files.*"
      ]
    },
    {
      "cell_type": "code",
      "execution_count": null,
      "metadata": {
        "id": "rKVeFGYMcx_r"
      },
      "outputs": [],
      "source": [
        "# Assembling and Saving model\n",
        "sym_model.save(data_dir)\n",
        "sym_model.assemble()"
      ]
    },
    {
      "cell_type": "markdown",
      "metadata": {
        "id": "0VIGsvPOcx_r"
      },
      "source": [
        "#### Checking the System Equations"
      ]
    },
    {
      "cell_type": "code",
      "execution_count": null,
      "metadata": {
        "id": "pGh5rV8kcx_r"
      },
      "outputs": [],
      "source": [
        "sym_model.topology.pos_equations"
      ]
    },
    {
      "cell_type": "markdown",
      "metadata": {
        "id": "adLfQYClcx_s"
      },
      "source": [
        "---------------------------------------------------------------\n",
        "---------------------------------------------------------------"
      ]
    },
    {
      "cell_type": "markdown",
      "metadata": {
        "id": "ccpjGKwvcx_s"
      },
      "source": [
        "## **Symbolic Configuration**\n",
        "---------------------------\n",
        "In this step we define a symbolic configuration of our symbolic topology. As you may have noticed in the symbolic topology building step, we only cared about the **_topology_**, thats is the system bodies and their connectivity, and we did not care explicitly with how these components are configured in space.</br>\n",
        "\n",
        "In order to create a valid numerical simulation session, we have to provide the system with its numerical configuration needed, for example, the joints\" locations and orientations. The symbolic topology in its raw form will require you to manually enter all these numerical arguments, which can be cumbersome even for smaller systems. This can be checked by checking the configuration inputs of the symbolic configuration as ```sym_config.config.input_nodes```\n",
        "\n",
        "Here we start by stating the symbolic inputs we wish to use instead of the default inputs set, and then we define the relation between these newly defined arguments and the original ones. \n",
        "\n",
        "**_The details of this process will be provided in the documentation._**"
      ]
    },
    {
      "cell_type": "code",
      "execution_count": null,
      "metadata": {
        "id": "QTEYIR4bcx_s"
      },
      "outputs": [],
      "source": [
        "# ============================================================= #\n",
        "#                     Symbolic Configuration\n",
        "# ============================================================= #\n",
        "\n",
        "# Symbolic configuration name.\n",
        "config_name = \"%s_cfg\"%project_name\n",
        "\n",
        "# Symbolic configuration instance.\n",
        "sym_config = configuration(config_name, sym_model)"
      ]
    },
    {
      "cell_type": "markdown",
      "metadata": {
        "id": "qB-jjKggcx_s"
      },
      "source": [
        "### Configuration Inputs"
      ]
    },
    {
      "cell_type": "code",
      "execution_count": null,
      "metadata": {
        "id": "YrBF4Me9cx_x"
      },
      "outputs": [],
      "source": [
        "# Adding the desired set of UserInputs\n",
        "# ====================================\n",
        "sym_config.add_point.UserInput('p1')\n",
        "sym_config.add_point.UserInput('p2')\n",
        "\n",
        "sym_config.add_vector.UserInput('v')"
      ]
    },
    {
      "cell_type": "markdown",
      "metadata": {
        "id": "mEvvBukxcx_x"
      },
      "source": [
        "### Configuration Releations"
      ]
    },
    {
      "cell_type": "code",
      "execution_count": null,
      "metadata": {
        "id": "xuBYYKnzSaYc"
      },
      "outputs": [],
      "source": [
        "# Defining Relations between original topology inputs\n",
        "# and our desired UserInputs.\n",
        "# ===================================================\n",
        "\n",
        "# Revolute Joint (a) location and orientation\n",
        "sym_config.add_relation.Equal_to('pt1_jcs_a', ('hps_p1',))\n",
        "sym_config.add_relation.Equal_to('ax1_jcs_a', ('vcs_v',))"
      ]
    },
    {
      "cell_type": "markdown",
      "metadata": {
        "id": "1qGjyPcvcx_x"
      },
      "source": [
        "### Geometries\n",
        "\n",
        "Here we start defining basic geometric shapes that can represents the shapes of the bodies in our system. This serves two points:\n",
        "- Visualization and Animation using the provided uraeus.visenv packages.\n",
        "- Evaluating the bodies inertia properties from these basic geometries instead of explicit definition."
      ]
    },
    {
      "cell_type": "code",
      "execution_count": null,
      "metadata": {
        "id": "lX7Hh5Aucx_x"
      },
      "outputs": [],
      "source": [
        "# Creating Geometries\n",
        "# ===================\n",
        "sym_config.add_scalar.UserInput('radius')\n",
        "\n",
        "sym_config.add_geometry.Sphere_Geometry('body', ('hps_p2', 's_radius'))\n",
        "sym_config.assign_geometry_to_body('rbs_body', 'gms_body')"
      ]
    },
    {
      "cell_type": "markdown",
      "metadata": {
        "id": "_1Zq73IHcx_x"
      },
      "source": [
        "### Assembling"
      ]
    },
    {
      "cell_type": "code",
      "execution_count": null,
      "metadata": {
        "id": "LP5Lq4vAcx_y"
      },
      "outputs": [],
      "source": [
        "# Exporing the configuration as a JSON file\n",
        "sym_config.export_JSON_file(data_dir)"
      ]
    },
    {
      "cell_type": "markdown",
      "metadata": {
        "id": "c3_7o_Sbcx_y"
      },
      "source": [
        "---------------------------------------------------------------\n",
        "---------------------------------------------------------------"
      ]
    },
    {
      "cell_type": "markdown",
      "metadata": {
        "id": "kZTLo2A-cx_y"
      },
      "source": [
        "# 3. **NUMERICAL ENVIRONMENT GENERATION**\n",
        "This step aims to create a valid code that can be used for numerical simulation. We will use the **uraeus.nmbd.cpp** numerical environment to create a valid numerical simulation environment in C++.\n",
        "Theoretically, the symbolic environment is uncoupled from the simulation environment, which opens the door to create various simulation environments that can be in any language."
      ]
    },
    {
      "cell_type": "markdown",
      "metadata": {
        "id": "ZArWnzkUcx_y"
      },
      "source": [
        "## Code-Generation\n",
        "Now we can use our symbolic model to generate the numerical code that can then be used for numerical simulations. For the **uraeus.nmbd.cpp** numerical environment, we import the `standalone_project` class from the `codegen` module and pass in our symbolic model.\n",
        "This will generate:\n",
        "- C++ source and header files representing the topology of our model.\n",
        "- C++ source and header files for a `Simulation` class exposing only the needed functionalities through a minimal API, that can be used in our `main.cpp`.\n",
        "- Cython wrappers for the C++ `Simulation` class so it can be accessed through python too.\n",
        "- CMakeLists.txt for automated cross-platform build-systems generation using CMake, building simulation executable and python extension modules."
      ]
    },
    {
      "cell_type": "code",
      "execution_count": null,
      "metadata": {
        "id": "c9w1QhXUcx_y"
      },
      "outputs": [],
      "source": [
        "# ============================================================= #\n",
        "#                     Code Generation\n",
        "# ============================================================= #\n",
        "\n",
        "from uraeus.nmbd.cpp.codegen import standalone_project\n",
        "project = standalone_project(\"model\")\n",
        "project.create_dirs()\n",
        "\n",
        "project.write_topology_code(sym_model)"
      ]
    },
    {
      "cell_type": "markdown",
      "metadata": {
        "id": "1TU56LfJcx_y"
      },
      "source": [
        "## Building Process"
      ]
    },
    {
      "cell_type": "markdown",
      "metadata": {
        "id": "nnhl_LxQcx_y"
      },
      "source": [
        "Generating needed source and header files from the generated cython scripts."
      ]
    },
    {
      "cell_type": "code",
      "execution_count": null,
      "metadata": {
        "id": "OWUv501PZFv7"
      },
      "outputs": [],
      "source": [
        "!cd model/numenv/cpp/cython/ && cythonize simulation.pyx call_obj.pyx"
      ]
    },
    {
      "cell_type": "markdown",
      "metadata": {
        "id": "pxD_21E-cx_y"
      },
      "source": [
        "### Creating main.cpp\n",
        "Here we have to write our simulation routine that will be used to produce the simulation executable.\n",
        "For this model, we only need to specify the name of the `json` file for the system configuration, and specify the desired time period and desired step-size.\n",
        "For other models we may have to specify the user-defined functions to control motion-actuators and generic force elements defined in our model.\n",
        "\n",
        "We use the `%%writefile <filename>` magic command to write the content of the cell to the specified file `<filename>`."
      ]
    },
    {
      "cell_type": "code",
      "execution_count": null,
      "metadata": {
        "id": "7l6euMjsVOL-"
      },
      "outputs": [],
      "source": [
        "%%writefile model/numenv/cpp/src/main.cpp\n",
        "\n",
        "#include \"simulation.hpp\"\n",
        "\n",
        "int main()\n",
        "{\n",
        "    std::cout << \"Calling Solver Default Constructor\\n\";\n",
        "    auto sim = Simulation();\n",
        "\n",
        "    std::cout << \"Calling constructFromJSON\\n\";\n",
        "    sim.ConstructConfiguration(\"configuration.json\");\n",
        "    \n",
        "    sim.Solve(10, 5e-3);\n",
        "\n",
        "    sim.SaveResults(\"\", \"free_dynamics\");\n",
        "\n",
        "    return 0;\n",
        "};\n"
      ]
    },
    {
      "cell_type": "markdown",
      "metadata": {
        "id": "rZ96QdHFcx_z"
      },
      "source": [
        "### Building Simulation Binaries\n",
        "The code cell below invokes `cmake ..` to generate the build-system files needed to build the binaries in **Release** mode, then invokes `cmake --build .` to start the building process.\n",
        "\n",
        "This will produce a `model` executable and a `simulation.so` python extension module that can be imported as a normal python module. These will be placed in the `/bin` directory"
      ]
    },
    {
      "cell_type": "code",
      "execution_count": null,
      "metadata": {
        "id": "1FmXkq6pZVcO"
      },
      "outputs": [],
      "source": [
        "!cd model/numenv/cpp/build && cmake .. -DCMAKE_BUILD_TYPE=Release && cmake --build ."
      ]
    },
    {
      "cell_type": "markdown",
      "metadata": {
        "id": "fCbaEzu4cx_z"
      },
      "source": [
        "---\n",
        "---"
      ]
    },
    {
      "cell_type": "markdown",
      "metadata": {
        "id": "Ur26Z4Fkcx_z"
      },
      "source": [
        "# 4. **NUMERICAL SIMULATION**\n",
        "Now we can advance to the **nuemrical simulation** step. In order to perform our desired simulation, we should first define our model numerical configuration data. These data represents how our model is placed in 3D space, where the bodies are located and how they are oriented as well as the other physical components existing in the system.\n",
        "\n",
        "At the **Symbolic Configuration** step we defined some **user inputs** and some **relations** that states how our system is configured symbolically. These data is stored in a `.json` file at the `/symenv/data/` directory. All we have to do is to make a copy of this file and fill in our numerical configuration data for our defined `user_inputs`.\n",
        "\n",
        "This file should be passed to our executable to construct the numerical topology correctly."
      ]
    },
    {
      "cell_type": "markdown",
      "metadata": {
        "id": "HiZiU5uRcx_z"
      },
      "source": [
        "In order to provide the numerical configuration data, we have to write a `configuration.json` file and save it at `numenv/cpp/bin/`. Using the `%pycat <filename>` magic command in Colab will open a side tab containing the file content, we can copy the content and past it in anotehr code cell and apply our modifications, then we use the `%%writefile <filename>` magic command to creat the required `configuration.json` file.\n",
        "\n",
        "Another -more elegant- option is to make use of python's `json` module to load, edit and save `.json` files. The `json` module loads json formatted text as python dictionaries, where we can access and modify our data easily. Then we can use the `json` module again to `dump` our modified data dictionary as json formatted text again and save it to a new file."
      ]
    },
    {
      "cell_type": "code",
      "execution_count": null,
      "metadata": {
        "id": "R_5D1dWecx_z"
      },
      "outputs": [],
      "source": [
        "%pycat model/symenv/data/pendulum_cfg.json"
      ]
    },
    {
      "cell_type": "markdown",
      "metadata": {
        "id": "Sewe6mYFcx_z"
      },
      "source": [
        "Loading the configuration data using `json` module, and getting access to the `user_inputs` section."
      ]
    },
    {
      "cell_type": "code",
      "execution_count": null,
      "metadata": {
        "id": "CCbcTpLHcx_z"
      },
      "outputs": [],
      "source": [
        "import json\n",
        "\n",
        "with open(\"model/symenv/data/pendulum_cfg.json\", \"r\") as f:\n",
        "    json_text = f.read()\n",
        "\n",
        "data = json.loads(json_text)\n",
        "user_inputs = data[\"user_inputs\"]"
      ]
    },
    {
      "cell_type": "markdown",
      "metadata": {
        "id": "11ceGkdVcx_0"
      },
      "source": [
        "Filling in our numerical configuration data"
      ]
    },
    {
      "cell_type": "code",
      "execution_count": null,
      "metadata": {
        "id": "P3f5rOotcx_0"
      },
      "outputs": [],
      "source": [
        "\n",
        "# Mechanism Points\n",
        "# ================\n",
        "user_inputs[\"hps_p1\"][\"args\"] = [ 0,   0, 0]\n",
        "user_inputs[\"hps_p2\"][\"args\"] = [ 0, 200, 0]\n",
        "\n",
        "\n",
        "# Guiding Global Axes\n",
        "# ===================\n",
        "user_inputs[\"vcs_v\"][\"args\"] = [1, 0, 0]\n",
        "\n",
        "# Scalar Variables\n",
        "# ================\n",
        "user_inputs[\"s_radius\"] = 20\n"
      ]
    },
    {
      "cell_type": "markdown",
      "metadata": {
        "id": "QerDfx2pcx_0"
      },
      "source": [
        "Saving our numerical configuration as `configuration.json` at the required location `numenv/cpp/bin/`."
      ]
    },
    {
      "cell_type": "code",
      "execution_count": null,
      "metadata": {
        "id": "R-XWJ6Uycx_0"
      },
      "outputs": [],
      "source": [
        "modified_text = json.dumps(data, indent=4)\n",
        "\n",
        "with open(\"model/numenv/cpp/bin/configuration.json\", \"w\") as output:\n",
        "    output.write(modified_text)"
      ]
    },
    {
      "cell_type": "markdown",
      "metadata": {
        "id": "OCXJAqVMcx_0"
      },
      "source": [
        "### Run the Simulation Executable"
      ]
    },
    {
      "cell_type": "code",
      "execution_count": null,
      "metadata": {
        "id": "7MBfdI_wlba_"
      },
      "outputs": [],
      "source": [
        "!cd model/numenv/cpp/bin/ && ./model"
      ]
    },
    {
      "cell_type": "markdown",
      "metadata": {
        "id": "bhcbh7m_cx_0"
      },
      "source": [
        "### Test the generated python extension module"
      ]
    },
    {
      "cell_type": "code",
      "execution_count": null,
      "metadata": {
        "id": "umfXtadTh3pf"
      },
      "outputs": [],
      "source": [
        "%%writefile model/numenv/cpp/bin/main.py\n",
        "\n",
        "import numpy as np\n",
        "from simulation import PySimulation\n",
        "\n",
        "# creating a model instance of the wrapped simulation class\n",
        "model = PySimulation()\n",
        "\n",
        "# constructing the numerical configuration from the modified\n",
        "# json file.\n",
        "model.construct_configuration(\"configuration.json\")\n",
        "\n",
        "# setting the simulation duration and time step-size\n",
        "model.solve(10, 5*1e-3)\n",
        "\n",
        "# saving the simulation results\n",
        "model.save_results(\"\", \"py_free_dynamics\")"
      ]
    },
    {
      "cell_type": "markdown",
      "metadata": {
        "id": "pB-FGr9lcx_0"
      },
      "source": [
        "### Run main.py python script"
      ]
    },
    {
      "cell_type": "code",
      "execution_count": null,
      "metadata": {
        "id": "w9BCQpm9iT4M"
      },
      "outputs": [],
      "source": [
        "!cd model/numenv/cpp/bin/ && python main.py"
      ]
    },
    {
      "cell_type": "markdown",
      "metadata": {
        "id": "-Fw1ps2xcx_1"
      },
      "source": [
        "---\n",
        "---"
      ]
    },
    {
      "cell_type": "markdown",
      "metadata": {
        "id": "PyJ9sc39cx_1"
      },
      "source": [
        "# 5. **DATA POST-PROCESSING**\n",
        "We can load and plot the simulation results easily too. The `SaveResults` method exports the position, velocities and accelerations of the system generalized coordinates as a `name_pos.csv`, `name_vel.csv`, and `name_acc.csv` respectively. These files can be loaded into a `pandas.DataFrame` object easily where we can do what we wish with the data."
      ]
    },
    {
      "cell_type": "code",
      "execution_count": null,
      "metadata": {
        "id": "Onzr5fRTcx_1"
      },
      "outputs": [],
      "source": [
        "import pandas as pd\n",
        "import matplotlib.pyplot as plt"
      ]
    },
    {
      "cell_type": "code",
      "execution_count": null,
      "metadata": {
        "id": "skyAzY3Csk2u"
      },
      "outputs": [],
      "source": [
        "pos_data = pd.read_csv(\"model/numenv/cpp/bin/py_free_dynamics_pos.csv\", index_col=0)"
      ]
    },
    {
      "cell_type": "code",
      "execution_count": null,
      "metadata": {
        "id": "E5YxNb1Lcx_2"
      },
      "outputs": [],
      "source": [
        "plt.figure(figsize=(10, 6))\n",
        "plt.plot(pos_data['time'], pos_data['rbs_body.z'], label='rbs_body.z')\n",
        "plt.grid()\n",
        "plt.legend()\n",
        "plt.show()"
      ]
    },
    {
      "cell_type": "code",
      "execution_count": null,
      "metadata": {
        "id": "1u0GIOKDcx_2"
      },
      "outputs": [],
      "source": [
        "plt.figure(figsize=(10, 6))\n",
        "plt.plot(pos_data['time'], pos_data['rbs_body.y'], label='rbs_body.y')\n",
        "plt.grid()\n",
        "plt.legend()\n",
        "plt.show()"
      ]
    },
    {
      "cell_type": "markdown",
      "metadata": {
        "id": "iiKpeDI_cx_3"
      },
      "source": [
        "# 6. **3D Visualization**\n",
        "An extra step we can do here is to visualize and animate our system in 3D. This can be done using the **uraeus.visenv.babylon** visualization environment, which is a JavaScript-based WebGL visualization environment for visualizing multi-body models created using uraeus.\n",
        "\n",
        "Making use of the fact that Colab is fully operational virtual linux machine, we can start a python server in the background running the visualization engine, and make use of the jupyter notebook capabilities to embed an iframe inside cell's output.\n",
        "\n",
        "Just run the cell below, and it should render the visualization environment.\n",
        "\n",
        "*__Note__: In Colab, you can right-click on a given cell and select **view output fullscreen**, this will open the visualization environment in a fullscreen mode.*"
      ]
    },
    {
      "cell_type": "markdown",
      "metadata": {
        "id": "oZWXA5I4cx_3"
      },
      "source": [
        "*__Note__: You have to download the `configuration.json` and the `_pos.csv` from the `numenv/cpp/bin/` directory to your machine, as the **uraeus.visenv.babylon** will prompt a window asking for these files on your physical machine when you try to load a model and/or an animation file.*"
      ]
    },
    {
      "cell_type": "markdown",
      "metadata": {
        "id": "f08EgvKNcx_3"
      },
      "source": [
        "The method below assumes a Colab session. This will not work on your local machine."
      ]
    },
    {
      "cell_type": "code",
      "execution_count": null,
      "metadata": {
        "id": "i7UQdzWWcx_3"
      },
      "outputs": [],
      "source": [
        "import subprocess\n",
        "process = subprocess.Popen(\"cd uraeus_visenv_babylon && python -m http.server 8000\",\n",
        "                     stdout=subprocess.PIPE, stderr=subprocess.PIPE, shell=True)"
      ]
    },
    {
      "cell_type": "code",
      "execution_count": null,
      "metadata": {
        "id": "W5Kre46lcx_3"
      },
      "outputs": [],
      "source": [
        "from google.colab.output import eval_js\n",
        "print(\"Click on the link below to open the 'visualization window' in a new tab.\")\n",
        "print(eval_js(\"google.colab.kernel.proxyPort(8000)\"))"
      ]
    },
    {
      "cell_type": "markdown",
      "metadata": {
        "id": "DZFrmNducx_3"
      },
      "source": [
        "Another way to view the 'visualization window' is to embed it as an `iframe` inside a cell output as below."
      ]
    },
    {
      "cell_type": "code",
      "execution_count": null,
      "metadata": {
        "id": "h_RpgPpacx_3"
      },
      "outputs": [],
      "source": [
        "from IPython.display import IFrame\n",
        "IFrame(eval_js(\"google.colab.kernel.proxyPort(8000)\"), 1200, 500)"
      ]
    },
    {
      "cell_type": "code",
      "execution_count": null,
      "metadata": {
        "id": "zTJGgJyMcx_3"
      },
      "outputs": [],
      "source": []
    }
  ],
  "metadata": {
    "kernelspec": {
      "display_name": "uraeus",
      "language": "python",
      "name": "uraeus"
    },
    "language_info": {
      "codemirror_mode": {
        "name": "ipython",
        "version": 3
      },
      "file_extension": ".py",
      "mimetype": "text/x-python",
      "name": "python",
      "nbconvert_exporter": "python",
      "pygments_lexer": "ipython3",
      "version": "3.7.3"
    },
    "colab": {
      "provenance": []
    }
  },
  "nbformat": 4,
  "nbformat_minor": 0
}